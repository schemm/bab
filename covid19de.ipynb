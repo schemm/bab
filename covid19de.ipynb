{
 "cells": [
  {
   "cell_type": "code",
   "execution_count": 29,
   "metadata": {
    "hideCode": true,
    "hideOutput": true,
    "hidePrompt": true
   },
   "outputs": [],
   "source": [
    "import ipywidgets as widgets\n",
    "from IPython.display import Markdown\n",
    "from IPython.display import Code\n",
    "\n",
    "output = {}\n",
    "value = {}\n",
    "\n",
    "def toggle_button_observer(change):\n",
    "    id = change['owner'].model_id\n",
    "    # description = change['owner'].description\n",
    "    \n",
    "    with output[id]:\n",
    "        if change[\"new\"]:\n",
    "            output[id].clear_output()\n",
    "            display(value[id])\n",
    "        else:\n",
    "            output[id].clear_output()\n",
    "            "
   ]
  },
  {
   "cell_type": "markdown",
   "metadata": {},
   "source": [
    "<div class=\"alert alert-block alert-danger\">\n",
    "<b>Wichtig:</b><br>\n",
    "Führen Sie vor der Bearbeitung der Übungsaufgaben bitte einmalig die Funktion <b><i>Cell --> Run All</i></b> aus. Dies initialisiert die Hilfestellungen zu den Aufgaben. \n",
    "</div>"
   ]
  },
  {
   "cell_type": "markdown",
   "metadata": {
    "hideCode": false,
    "hidePrompt": false
   },
   "source": [
    "# Übungsaufgabe Datenanalyse in Python\n",
    "\n",
    "In dieser Übung analysieren Sie die Entwicklung der Corona-Epidemie in Deutschland auf Basis aktueller Zahlen des Robert-Koch-Instituts (RKI). \n",
    "\n",
    "Zur Datenanalyse verwenden Sie neben den grundlegenden Python-Möglichkeiten insbesondere Funktionen der Bibliotheken `pandas` und `matplotlib`.\n",
    "\n",
    "<div class=\"alert alert-block alert-info\">\n",
    "<b>Tipp:</b><br> \n",
    "Verwenden Sie bei der Bearbeitung der Übung ein <i>Cheat Sheet</i> für die von Ihnen verwendeten Bibliotheken. \n",
    "Ein beispielhaftes <i>Cheat Sheet</i> zu <code>pandas</code> finden Sie <a href=\"https://pandas.pydata.org/Pandas_Cheat_Sheet.pdf\">hier</a>. \n",
    "Weitere Alternativen finden Sie bspw. <a href=\"https://blog.finxter.com/pandas-cheat-sheets\">unter diesen Link</a>. Oder googlen Sie mit Suchbegriffen wie bspw. \"cheat sheet &lt;bibliothek&gt;\".\n",
    "</div>"
   ]
  },
  {
   "cell_type": "markdown",
   "metadata": {
    "hideCode": false,
    "hidePrompt": false
   },
   "source": [
    "## 1 Import von Bibliotheken und allgemeine Einstellungen\n",
    "\n",
    "### Aufgabe\n",
    "\n",
    "* Installieren und importieren Sie die von Ihnen benötigten Bibliotheken. \n",
    "* Verwenden Sie zusätzlich den jupyter-Befehl `%matplotlib inline` um im Code erzeuge Plots direkt im Notebook anzuzeigen."
   ]
  },
  {
   "cell_type": "code",
   "execution_count": 30,
   "metadata": {
    "hideCode": true,
    "hideOutput": false,
    "hidePrompt": true,
    "scrolled": true
   },
   "outputs": [
    {
     "data": {
      "application/vnd.jupyter.widget-view+json": {
       "model_id": "0b410462b2ab45619cc80316034a7cd7",
       "version_major": 2,
       "version_minor": 0
      },
      "text/plain": [
       "HBox(children=(ToggleButton(value=False, button_style='info', description='Tipp', icon='info', tooltip='Tipp')…"
      ]
     },
     "metadata": {},
     "output_type": "display_data"
    },
    {
     "data": {
      "application/vnd.jupyter.widget-view+json": {
       "model_id": "ebd7e4404fa04b5a819691db820731c9",
       "version_major": 2,
       "version_minor": 0
      },
      "text/plain": [
       "Output(layout=Layout(border='1px solid black'))"
      ]
     },
     "metadata": {},
     "output_type": "display_data"
    }
   ],
   "source": [
    "toggle = {}\n",
    "\n",
    "### Tipp\n",
    "\n",
    "toggle['tipp'] = widgets.ToggleButton(\n",
    "    value = False,\n",
    "    description='Tipp',\n",
    "    disabled=False,\n",
    "    button_style='info', # 'success', 'info', 'warning', 'danger' or ''\n",
    "    tooltip='Tipp',\n",
    "    icon='info' # (FontAwesome names without the `fa-` prefix)\n",
    ")\n",
    "\n",
    "tipp = '''\n",
    "* Verwenden Sie den pip-Befehl: `!pip install <modul>` \n",
    "* Verwenden Sie das import-statement: `import <modul> as <name>`\n",
    "'''    \n",
    "\n",
    "value[toggle['tipp'].model_id] = Markdown(tipp)\n",
    "\n",
    "### Step\n",
    "\n",
    "toggle['step'] = widgets.ToggleButton(\n",
    "    value = False,\n",
    "    description='Schritte',\n",
    "    disabled=False,\n",
    "    button_style='warning', # 'success', 'info', 'warning', 'danger' or ''\n",
    "    tooltip='Schritte',\n",
    "    icon='question' # (FontAwesome names without the `fa-` prefix)\n",
    ")\n",
    "        \n",
    "step = '''\n",
    "1. Installieren Sie die Bibliothek `pandas`\n",
    "2. Installieren Sie die Bibliothek `matplotlib`\n",
    "3. Importieren Sie die Bibliothek `pandas`\n",
    "4. Importieren Sie die Bibliothek `matplotlib`\n",
    "5. Ergänzen Sie den Befehl `%matplotlib inline`\n",
    "'''\n",
    "\n",
    "value[toggle['step'].model_id] = Markdown(step)\n",
    "\n",
    "### Solution\n",
    "\n",
    "toggle['solution'] = widgets.ToggleButton(\n",
    "    value = False,\n",
    "    description='Lösung',\n",
    "    disabled=False,\n",
    "    button_style='danger', # 'success', 'info', 'warning', 'danger' or ''\n",
    "    tooltip='Lösung',\n",
    "    icon='exclamation' # (FontAwesome names without the `fa-` prefix)\n",
    ")\n",
    "\n",
    "solution = \"\"\"\n",
    "!pip install pandas\n",
    "!pip install matplotlib\n",
    "\n",
    "import pandas as pd\n",
    "import matplotlib.pyplot as plt\n",
    "\n",
    "%matplotlib inline\n",
    "\"\"\"\n",
    "\n",
    "value[toggle['solution'].model_id] = Code(solution)\n",
    "\n",
    "### Register observer & display\n",
    "\n",
    "out = widgets.Output(layout=widgets.Layout(border = '1px solid black'))\n",
    "for t in toggle.values(): \n",
    "    output[t.model_id] = out\n",
    "    t.observe(toggle_button_observer, \"value\")\n",
    "\n",
    "display(widgets.HBox([toggle['tipp'], toggle['step'], toggle['solution']]))\n",
    "display(out)"
   ]
  },
  {
   "cell_type": "code",
   "execution_count": null,
   "metadata": {},
   "outputs": [],
   "source": []
  },
  {
   "cell_type": "markdown",
   "metadata": {
    "hideCode": false,
    "hidePrompt": false
   },
   "source": [
    "## 2 Datenbeschaffung\n",
    "\n",
    "Auf der folgenden Website finden Sie Informationen zu den vom RKI veröffentlichen Corona-Daten: \n",
    "\n",
    "https://npgeo-corona-npgeo-de.hub.arcgis.com/datasets/dd4580c810204019a7b8eb3e0b329dd6_0\n",
    "\n",
    "### Aufgabe\n",
    "\n",
    "* Lesen Sie die Daten in einen `pandas.DataFrame`ein. \n",
    "* Wie viele Zeilen bzw. Spalten umfasst der Datensatz?\n",
    "* Verschaffen Sie sich einen Überblick über die Datenattribute: Benennung, Inhalt, Datentypen. \n",
    "* Geben Sie die ersten 10 Datensätze des `DataFrame`aus."
   ]
  },
  {
   "cell_type": "code",
   "execution_count": 31,
   "metadata": {
    "hideCode": true,
    "hidePrompt": true
   },
   "outputs": [
    {
     "data": {
      "application/vnd.jupyter.widget-view+json": {
       "model_id": "d922708a07e44579b5de62bc82ca8786",
       "version_major": 2,
       "version_minor": 0
      },
      "text/plain": [
       "HBox(children=(ToggleButton(value=False, button_style='info', description='Tipp', icon='info', tooltip='Tipp')…"
      ]
     },
     "metadata": {},
     "output_type": "display_data"
    },
    {
     "data": {
      "application/vnd.jupyter.widget-view+json": {
       "model_id": "b1dbd0b27a464ee3a81960f9b0c54547",
       "version_major": 2,
       "version_minor": 0
      },
      "text/plain": [
       "Output(layout=Layout(border='1px solid black'))"
      ]
     },
     "metadata": {},
     "output_type": "display_data"
    }
   ],
   "source": [
    "toggle = {}\n",
    "\n",
    "### Tipp\n",
    "\n",
    "toggle['tipp'] = widgets.ToggleButton(\n",
    "    value = False,\n",
    "    description='Tipp',\n",
    "    disabled=False,\n",
    "    button_style='info', # 'success', 'info', 'warning', 'danger' or ''\n",
    "    tooltip='Tipp',\n",
    "    icon='info' # (FontAwesome names without the `fa-` prefix)\n",
    ")\n",
    "\n",
    "tipp = '''\n",
    "Verwenden Sie bspw. die folgenden Funktionen:\n",
    "* `pandas.read_csv`\n",
    "* `pandas.DataFrame.info`\n",
    "* `pandas.DataFrame.head`\n",
    "'''    \n",
    "\n",
    "value[toggle['tipp'].model_id] = Markdown(tipp)\n",
    "\n",
    "### Step\n",
    "\n",
    "toggle['step'] = widgets.ToggleButton(\n",
    "    value = False,\n",
    "    description='Schritte',\n",
    "    disabled=False,\n",
    "    button_style='warning', # 'success', 'info', 'warning', 'danger' or ''\n",
    "    tooltip='Schritte',\n",
    "    icon='question' # (FontAwesome names without the `fa-` prefix)\n",
    ")\n",
    "        \n",
    "step = '''\n",
    "1. Identifizieren Sie die URL der Datenquelle.\n",
    "2. Importieren Sie die Daten über die Funktion `pandas.read_csv` in einen `DataFrame`. Laden Sie die Daten vorab als CSV-Datei herunter oder rufen Sie die Funktion direkt mit der URL als Parameter auf.\n",
    "3. Nutzen Sie die Funktion `pandas.DataFrame.info` um einen Überblick über den `DataFrame` zu bekommen. \n",
    "4. Nutzen Sie die Funktion `pandas.DataFrame.head`zur Ausgabe der ersten Zeilen des 'DataFrame'.\n",
    "'''\n",
    "\n",
    "value[toggle['step'].model_id] = Markdown(step)\n",
    "\n",
    "### Solution\n",
    "\n",
    "toggle['solution'] = widgets.ToggleButton(\n",
    "    value = False,\n",
    "    description='Lösung',\n",
    "    disabled=False,\n",
    "    button_style='danger', # 'success', 'info', 'warning', 'danger' or ''\n",
    "    tooltip='Lösung',\n",
    "    icon='exclamation' # (FontAwesome names without the `fa-` prefix)\n",
    ")\n",
    "\n",
    "solution = \"\"\"\n",
    "rki_data = pd.read_csv('https://opendata.arcgis.com/datasets/dd4580c810204019a7b8eb3e0b329dd6_0.csv');\n",
    "\n",
    "display(rki_data.info())\n",
    "\n",
    "display(rki_data.head(10))\n",
    "\"\"\"\n",
    "\n",
    "value[toggle['solution'].model_id] = Code(solution)\n",
    "\n",
    "### Register observer & display\n",
    "\n",
    "out = widgets.Output(layout=widgets.Layout(border = '1px solid black'))\n",
    "for t in toggle.values(): \n",
    "    output[t.model_id] = out\n",
    "    t.observe(toggle_button_observer, \"value\")\n",
    "\n",
    "display(widgets.HBox([toggle['tipp'], toggle['step'], toggle['solution']]))\n",
    "display(out)"
   ]
  },
  {
   "cell_type": "code",
   "execution_count": null,
   "metadata": {
    "hideCode": false,
    "hidePrompt": false
   },
   "outputs": [],
   "source": []
  },
  {
   "cell_type": "markdown",
   "metadata": {
    "hideCode": false,
    "hidePrompt": false
   },
   "source": [
    "## 3 Datenverständnis & -aufbereitung\n",
    "\n",
    "### Aufgabe\n",
    "\n",
    "Ändern Sie den Typ des Attributs *Meldedatum* auf den Datentyp `datetime`."
   ]
  },
  {
   "cell_type": "code",
   "execution_count": 32,
   "metadata": {
    "hideCode": true,
    "hidePrompt": true
   },
   "outputs": [
    {
     "data": {
      "application/vnd.jupyter.widget-view+json": {
       "model_id": "da916e7bc6db472ab48ff8936f448726",
       "version_major": 2,
       "version_minor": 0
      },
      "text/plain": [
       "HBox(children=(ToggleButton(value=False, button_style='info', description='Tipp', icon='info', tooltip='Tipp')…"
      ]
     },
     "metadata": {},
     "output_type": "display_data"
    },
    {
     "data": {
      "application/vnd.jupyter.widget-view+json": {
       "model_id": "6e56ba694fc147feaf8530d2bf3c4532",
       "version_major": 2,
       "version_minor": 0
      },
      "text/plain": [
       "Output(layout=Layout(border='1px solid black'))"
      ]
     },
     "metadata": {},
     "output_type": "display_data"
    }
   ],
   "source": [
    "toggle = {}\n",
    "\n",
    "### Tipp\n",
    "\n",
    "toggle['tipp'] = widgets.ToggleButton(\n",
    "    value = False,\n",
    "    description='Tipp',\n",
    "    disabled=False,\n",
    "    button_style='info', # 'success', 'info', 'warning', 'danger' or ''\n",
    "    tooltip='Tipp',\n",
    "    icon='info' # (FontAwesome names without the `fa-` prefix)\n",
    ")\n",
    "\n",
    "tipp = '''\n",
    "Verwenden Sie die Funktion `pandas.to_datetime`.\n",
    "'''    \n",
    "\n",
    "value[toggle['tipp'].model_id] = Markdown(tipp)\n",
    "\n",
    "### Step\n",
    "\n",
    "toggle['step'] = widgets.ToggleButton(\n",
    "    value = False,\n",
    "    description='Schritte',\n",
    "    disabled=False,\n",
    "    button_style='warning', # 'success', 'info', 'warning', 'danger' or ''\n",
    "    tooltip='Schritte',\n",
    "    icon='question' # (FontAwesome names without the `fa-` prefix)\n",
    ")\n",
    "        \n",
    "step = '''\n",
    "1. Rufen Sie die Funktion ´pandas.to_datetime´ auf der Spalte *Meldedatum* auf.\n",
    "2. Weisen Sie der Spalte *Meldedatum* das Ergebnis des Funktionsaufrufs zu.\n",
    "3. Prüfen Sie, ob Ihre Befehle das gewünschte Ergebnis erzeugt haben.\n",
    "'''\n",
    "\n",
    "value[toggle['step'].model_id] = Markdown(step)\n",
    "\n",
    "### Solution\n",
    "\n",
    "toggle['solution'] = widgets.ToggleButton(\n",
    "    value = False,\n",
    "    description='Lösung',\n",
    "    disabled=False,\n",
    "    button_style='danger', # 'success', 'info', 'warning', 'danger' or ''\n",
    "    tooltip='Lösung',\n",
    "    icon='exclamation' # (FontAwesome names without the `fa-` prefix)\n",
    ")\n",
    "\n",
    "solution = \"\"\"\n",
    "rki_data['Meldedatum'] = pd.to_datetime(rki_data['Meldedatum'], format = \"%Y-%m-%d\")\n",
    "\n",
    "display(rki_data.info())\n",
    "\"\"\"\n",
    "\n",
    "value[toggle['solution'].model_id] = Code(solution)\n",
    "\n",
    "### Register observer & display\n",
    "\n",
    "out = widgets.Output(layout=widgets.Layout(border = '1px solid black'))\n",
    "for t in toggle.values(): \n",
    "    output[t.model_id] = out\n",
    "    t.observe(toggle_button_observer, \"value\")\n",
    "\n",
    "display(widgets.HBox([toggle['tipp'], toggle['step'], toggle['solution']]))\n",
    "display(out)"
   ]
  },
  {
   "cell_type": "code",
   "execution_count": null,
   "metadata": {
    "hideCode": false,
    "hidePrompt": false
   },
   "outputs": [],
   "source": []
  },
  {
   "cell_type": "markdown",
   "metadata": {
    "hideCode": false,
    "hidePrompt": false
   },
   "source": [
    "### Aufgabe\n",
    "\n",
    "Beantworten Sie die folgenden Fragen unter Nutzung geeigneter Funktionen von `pandas.Dataframe`:\n",
    "* Welche Zeitspanne (bezogen auf das *Meldedatum*) umfasst der Datensatz?\n",
    "* Welche Dauer hat diese Zeitspanne in Tagen?\n",
    "* Wie viele unterschiedliche Landkreise bzw. kreisfreie Städte sind im Datensatz vorhanden?\n",
    "* Welche Kennung / ID hat die Stadt Düsseldorf?\n",
    "* Welche Anzahlen an Fällen und Todesfällen hat die Stadt Düsseldorf mit der aktuellsten Meldung im Datensatz übermittelt?"
   ]
  },
  {
   "cell_type": "code",
   "execution_count": 33,
   "metadata": {
    "hideCode": true,
    "hidePrompt": true
   },
   "outputs": [
    {
     "data": {
      "application/vnd.jupyter.widget-view+json": {
       "model_id": "b698e6ba82724ae88d63a0be5ae201d6",
       "version_major": 2,
       "version_minor": 0
      },
      "text/plain": [
       "HBox(children=(ToggleButton(value=False, button_style='info', description='Tipp', icon='info', tooltip='Tipp')…"
      ]
     },
     "metadata": {},
     "output_type": "display_data"
    },
    {
     "data": {
      "application/vnd.jupyter.widget-view+json": {
       "model_id": "6592239afa854c5081cc3af61132b7e5",
       "version_major": 2,
       "version_minor": 0
      },
      "text/plain": [
       "Output(layout=Layout(border='1px solid black'))"
      ]
     },
     "metadata": {},
     "output_type": "display_data"
    }
   ],
   "source": [
    "toggle = {}\n",
    "\n",
    "### Tipp\n",
    "\n",
    "toggle['tipp'] = widgets.ToggleButton(\n",
    "    value = False,\n",
    "    description='Tipp',\n",
    "    disabled=False,\n",
    "    button_style='info', # 'success', 'info', 'warning', 'danger' or ''\n",
    "    tooltip='Tipp',\n",
    "    icon='info' # (FontAwesome names without the `fa-` prefix)\n",
    ")\n",
    "\n",
    "tipp = '''\n",
    "Verwenden Sie bspw. die folgenden Funktion:\n",
    "* `pandas.DataFrame.min`\n",
    "* `pandas.DataFrame.max`\n",
    "* `pandas.DataFrame.nunique`\n",
    "* `pandas.Series.str.contains`\n",
    "'''    \n",
    "\n",
    "value[toggle['tipp'].model_id] = Markdown(tipp)\n",
    "\n",
    "### Step\n",
    "\n",
    "toggle['step'] = widgets.ToggleButton(\n",
    "    value = False,\n",
    "    description='Schritte',\n",
    "    disabled=False,\n",
    "    button_style='warning', # 'success', 'info', 'warning', 'danger' or ''\n",
    "    tooltip='Schritte',\n",
    "    icon='question' # (FontAwesome names without the `fa-` prefix)\n",
    ")\n",
    "        \n",
    "step = '''\n",
    "1. Ermitteln Sie die minimalen und maximalen Werte der Spalte *Meldedatum*.\n",
    "2. Bilden Sie die Differenz aus den ermittelten Werten zur Ermittlung der gesuchten Dauer.\n",
    "3. Ermitteln Sie die Anzahl unterschiedlicher Werte in den Spalten *IdLandkreis* oder *Landkreis*.\n",
    "4. Filtern Sie die Zeilen heraus, die in der Spalte *Landkreis* den `String` \"Düsseldorf\" enthalten und geben Sie die Werte der Spalte *IdLandkreis* aus.\n",
    "'''\n",
    "\n",
    "value[toggle['step'].model_id] = Markdown(step)\n",
    "\n",
    "### Solution\n",
    "\n",
    "toggle['solution'] = widgets.ToggleButton(\n",
    "    value = False,\n",
    "    description='Lösung',\n",
    "    disabled=False,\n",
    "    button_style='danger', # 'success', 'info', 'warning', 'danger' or ''\n",
    "    tooltip='Lösung',\n",
    "    icon='exclamation' # (FontAwesome names without the `fa-` prefix)\n",
    ")\n",
    "\n",
    "solution = \"\"\"\n",
    "# Zeitspanne\n",
    "display(\"Zeitspanne von: \" + rki_data['Meldedatum'].min().strftime('%d.%m.%Y'))\n",
    "display(\"Zeitspanne bis: \" + rki_data['Meldedatum'].max().strftime('%d.%m.%Y'))\n",
    "\n",
    "# Dauer\n",
    "display(\"Dauer: \" + str(rki_data['Meldedatum'].max() - rki_data['Meldedatum'].min()))\n",
    "\n",
    "# Anzahl unterschiedlicher Landkreise\n",
    "display(rki_data['IdLandkreis'].nunique())\n",
    "display(rki_data['Landkreis'].nunique())\n",
    "\n",
    "# ID von Düsseldorf\n",
    "display(rki_data.loc[rki_data['Landkreis'].str.contains(\"Düsseldorf\"), ['Landkreis','IdLandkreis']].drop_duplicates())\n",
    "\"\"\"\n",
    "\n",
    "value[toggle['solution'].model_id] = Code(solution)\n",
    "\n",
    "### Register observer & display\n",
    "\n",
    "out = widgets.Output(layout=widgets.Layout(border = '1px solid black'))\n",
    "for t in toggle.values(): \n",
    "    output[t.model_id] = out\n",
    "    t.observe(toggle_button_observer, \"value\")\n",
    "\n",
    "display(widgets.HBox([toggle['tipp'], toggle['step'], toggle['solution']]))\n",
    "display(out)"
   ]
  },
  {
   "cell_type": "code",
   "execution_count": null,
   "metadata": {},
   "outputs": [],
   "source": []
  },
  {
   "cell_type": "markdown",
   "metadata": {},
   "source": [
    "## 4 Gruppierung und Aggregation\n",
    "\n",
    "### Aufgabe\n",
    "\n",
    "Erzeugen Sie die folgenden Auswertungen in Form von `DataFrames`:\n",
    "\n",
    "* Summierte Fallzahlen pro Bundesland, nach Fallszahlen absteigend sortiert\n",
    "* Summierte Fallzahlen pro Altersgruppe, nach Altersgruppen aufsteigend sortiert\n",
    "* Summierte Todeszahlen pro Altersgruppe, nach Altersgruppen aufsteigend sortiert\n",
    "* Welche Anzahlen an Fällen und Todesfällen hat die Stadt Düsseldorf mit der aktuellsten Meldung im Datensatz übermittelt?"
   ]
  },
  {
   "cell_type": "code",
   "execution_count": 34,
   "metadata": {
    "hideCode": true,
    "hidePrompt": true
   },
   "outputs": [
    {
     "data": {
      "application/vnd.jupyter.widget-view+json": {
       "model_id": "2494e2caf4c74aab8a8a22a2aca1a2d3",
       "version_major": 2,
       "version_minor": 0
      },
      "text/plain": [
       "HBox(children=(ToggleButton(value=False, button_style='info', description='Tipp', icon='info', tooltip='Tipp')…"
      ]
     },
     "metadata": {},
     "output_type": "display_data"
    },
    {
     "data": {
      "application/vnd.jupyter.widget-view+json": {
       "model_id": "37d02968b78943068cb1768f905b775a",
       "version_major": 2,
       "version_minor": 0
      },
      "text/plain": [
       "Output(layout=Layout(border='1px solid black'))"
      ]
     },
     "metadata": {},
     "output_type": "display_data"
    }
   ],
   "source": [
    "toggle = {}\n",
    "\n",
    "### Tipp\n",
    "\n",
    "toggle['tipp'] = widgets.ToggleButton(\n",
    "    value = False,\n",
    "    description='Tipp',\n",
    "    disabled=False,\n",
    "    button_style='info', # 'success', 'info', 'warning', 'danger' or ''\n",
    "    tooltip='Tipp',\n",
    "    icon='info' # (FontAwesome names without the `fa-` prefix)\n",
    ")\n",
    "\n",
    "tipp = '''\n",
    "Verwenden Sie bspw. die folgenden Funktionen:\n",
    "* `pandas.DataFrame.groupby`\n",
    "* `pandas.DataFrame.sum`\n",
    "* `pandas.DataFrame.sort_values`\n",
    "* `pandas.DataFrame.max`\n",
    "'''    \n",
    "\n",
    "value[toggle['tipp'].model_id] = Markdown(tipp)\n",
    "\n",
    "### Step\n",
    "\n",
    "toggle['step'] = widgets.ToggleButton(\n",
    "    value = False,\n",
    "    description='Schritte',\n",
    "    disabled=False,\n",
    "    button_style='warning', # 'success', 'info', 'warning', 'danger' or ''\n",
    "    tooltip='Schritte',\n",
    "    icon='question' # (FontAwesome names without the `fa-` prefix)\n",
    ")\n",
    "        \n",
    "step = '''\n",
    "Gehen Sie jeweils folgendermaßen vor:\n",
    "1. Selektieren Sie über eine Indizierung die auszugebenden Spalten.\n",
    "2. Verwenden Sie hierbei ggf. eine Selektion mit Bedingungen.\n",
    "3. Gruppieren Sie das Ergebnis der Selektion mit der Funktion `pandas.DataFrame.groupby` nach den genannten Attributen.\n",
    "4. Aggregieren Sie das auszuwertende Attribut mit einer geeigneten Funktion, bspw. `pandas.DataFrame.sum`.\n",
    "5. Sortieren Sie die Ausgabe über die Funktion `pandas.DataFrame.sort_values`.\n",
    "'''\n",
    "\n",
    "value[toggle['step'].model_id] = Markdown(step)\n",
    "\n",
    "### Solution\n",
    "\n",
    "toggle['solution'] = widgets.ToggleButton(\n",
    "    value = False,\n",
    "    description='Lösung',\n",
    "    disabled=False,\n",
    "    button_style='danger', # 'success', 'info', 'warning', 'danger' or ''\n",
    "    tooltip='Lösung',\n",
    "    icon='exclamation' # (FontAwesome names without the `fa-` prefix)\n",
    ")\n",
    "\n",
    "solution = \"\"\"\n",
    "# Summierte Fallzahlen pro Bundesland, nach Fallzahlen absteigend sortiert\n",
    "display(rki_data[['Bundesland','AnzahlFall']].groupby(by='Bundesland').sum().sort_values('AnzahlFall', ascending=False))\n",
    "\n",
    "# Summierte Fallzahlen pro Altersgruppe, nach Alterssgruppen absteigend sortiert\n",
    "display(rki_data[['Altersgruppe','AnzahlFall']].groupby(by='Altersgruppe').sum().sort_values('Altersgruppe'))\n",
    "\n",
    "# Summierte Todeszahlen pro Altersgruppe, nach Altersgruppen aufsteigend sortiert\n",
    "display(rki_data[['Altersgruppe', 'Geschlecht', 'AnzahlTodesfall']].groupby(by=['Altersgruppe','Geschlecht']).sum().sort_values(['Altersgruppe', 'Geschlecht']))\n",
    "\n",
    "# aktuellste Fallzahlen von Düsseldorf\n",
    "most_recent_date = rki_data[rki_data['IdLandkreis'] == 5111]['Meldedatum'].max()\n",
    "display(most_recent_date)\n",
    "display(rki_data[(rki_data['Meldedatum'] == most_recent_date) & (rki_data['IdLandkreis'] == 5111)][['AnzahlFall','AnzahlTodesfall']].sum())\n",
    "\"\"\"\n",
    "\n",
    "value[toggle['solution'].model_id] = Code(solution)\n",
    "\n",
    "### Register observer & display\n",
    "\n",
    "out = widgets.Output(layout=widgets.Layout(border = '1px solid black'))\n",
    "for t in toggle.values(): \n",
    "    output[t.model_id] = out\n",
    "    t.observe(toggle_button_observer, \"value\")\n",
    "\n",
    "display(widgets.HBox([toggle['tipp'], toggle['step'], toggle['solution']]))\n",
    "display(out)"
   ]
  },
  {
   "cell_type": "code",
   "execution_count": null,
   "metadata": {},
   "outputs": [],
   "source": []
  },
  {
   "cell_type": "markdown",
   "metadata": {
    "hideCode": false,
    "hidePrompt": false
   },
   "source": [
    "## 5 Visualisierung\n",
    "\n",
    "### Aufgabe\n",
    "\n",
    "Erzeugen Sie die folgenden graphischen Abbildungen unter Nutzung von `pandas`und `matplotlib`:\n",
    "\n",
    "* Liniendiagramm der gemeldeten Fälle pro Tag über den gesamten Zeitraum\n",
    "* Säulendiagramm der gemeldeten Fälle pro Monat über den gesamten Zeitraum\n",
    "* kombiniertes Liniendiagramm \n",
    "    * der gemeldeten Fälle pro Tag über den gesamten Zeitraum (s.o.) und\n",
    "    * des rollierenden 7-Tages-Schnitts der gemeldeten Fälle über den gesamten Zeitraum\n",
    "* Liniendiagramm der kumulierten gemeldeten Fälle pro Tag über den gesamten Zeitraum\n",
    "* Säulendiagramm der gemeldeten Fälle pro Tag in Düsseldorf über die letzten 3 Wochen"
   ]
  },
  {
   "cell_type": "code",
   "execution_count": 35,
   "metadata": {
    "hideCode": true,
    "hidePrompt": true
   },
   "outputs": [
    {
     "data": {
      "application/vnd.jupyter.widget-view+json": {
       "model_id": "3e096475c3a7419c950e1680a6a712bf",
       "version_major": 2,
       "version_minor": 0
      },
      "text/plain": [
       "HBox(children=(ToggleButton(value=False, button_style='info', description='Tipp', icon='info', tooltip='Tipp')…"
      ]
     },
     "metadata": {},
     "output_type": "display_data"
    },
    {
     "data": {
      "application/vnd.jupyter.widget-view+json": {
       "model_id": "1022f0c87a8a4c1cbfc67ec20ee6e1e2",
       "version_major": 2,
       "version_minor": 0
      },
      "text/plain": [
       "Output(layout=Layout(border='1px solid black'))"
      ]
     },
     "metadata": {},
     "output_type": "display_data"
    }
   ],
   "source": [
    "toggle = {}\n",
    "\n",
    "### Tipp\n",
    "\n",
    "toggle['tipp'] = widgets.ToggleButton(\n",
    "    value = False,\n",
    "    description='Tipp',\n",
    "    disabled=False,\n",
    "    button_style='info', # 'success', 'info', 'warning', 'danger' or ''\n",
    "    tooltip='Tipp',\n",
    "    icon='info' # (FontAwesome names without the `fa-` prefix)\n",
    ")\n",
    "\n",
    "tipp = '''\n",
    "Verwenden Sie bspw. die folgenden Funktionen:\n",
    "* `pandas.DataFrame.groupby`\n",
    "* `pandas.DataFrame.sum`\n",
    "* `pandas.DataFrame.cumsum`\n",
    "* `pandas.DataFrame.mean`\n",
    "* `pandas.DataFrame.plot`\n",
    "* `pandas.DataFrame.rolling`\n",
    "* `matplotlib.pyplot.figure`\n",
    "'''    \n",
    "\n",
    "value[toggle['tipp'].model_id] = Markdown(tipp)\n",
    "\n",
    "### Step\n",
    "\n",
    "toggle['step'] = widgets.ToggleButton(\n",
    "    value = False,\n",
    "    description='Schritte',\n",
    "    disabled=False,\n",
    "    button_style='warning', # 'success', 'info', 'warning', 'danger' or ''\n",
    "    tooltip='Schritte',\n",
    "    icon='question' # (FontAwesome names without the `fa-` prefix)\n",
    ")\n",
    "        \n",
    "step = '''\n",
    "Gehen Sie jeweils folgendermaßen vor:\n",
    "1. Verwenden Sie die Funktion `matplotlib.pyplot.figure` zur Erzeugung einer neuen `figure`.\n",
    "1. Selektieren Sie über eine Indizierung die auszugebenden Spalten.\n",
    "2. Verwenden Sie hierbei ggf. eine Selektion mit Bedingungen.\n",
    "3. Gruppieren und Aggregieren Sie Daten falls notwendig.\n",
    "4. Erweitern Sie den `DataFrame`um neue, berechnete Spalten falls notwendig. \n",
    "5. Plotten Sie den erzeugten Dataframe mit der Funktion `pandas.DataFrame.plot`\n",
    "'''\n",
    "\n",
    "value[toggle['step'].model_id] = Markdown(step)\n",
    "\n",
    "### Solution\n",
    "\n",
    "toggle['solution'] = widgets.ToggleButton(\n",
    "    value = False,\n",
    "    description='Lösung',\n",
    "    disabled=False,\n",
    "    button_style='danger', # 'success', 'info', 'warning', 'danger' or ''\n",
    "    tooltip='Lösung',\n",
    "    icon='exclamation' # (FontAwesome names without the `fa-` prefix)\n",
    ")\n",
    "\n",
    "solution = \"\"\"\n",
    "import datetime\n",
    "\n",
    "# Liniendiagramm der gemeldeten Fälle pro Tag über den gesamten Zeitraum\n",
    "plt.figure()\n",
    "display(rki_data[['Meldedatum','AnzahlFall']].groupby(by='Meldedatum').sum().plot(kind='line'))\n",
    "\n",
    "# Säulendiagramm der gemeldeten Fälle pro Monat über den gesamten Zeitraum\n",
    "plt.figure()\n",
    "rki_data['Monat'] = pd.DatetimeIndex(rki_data['Meldedatum']).month\n",
    "rki_data[['Monat','AnzahlFall']].groupby(by='Monat').sum().plot(kind='bar')\n",
    "\n",
    "# Liniendiagramm der gemeldeten Fälle und des 7-Tages-Schnitts der gemeldeten Fälle über den gesamten Zeitraum\n",
    "rki_data_grouped = rki_data[['Meldedatum','AnzahlFall']].groupby(by='Meldedatum').sum()\n",
    "plt.figure()\n",
    "rki_data_grouped['Rollierend7Tage'] = rki_data_grouped['AnzahlFall'].rolling(7).mean()\n",
    "rki_data_grouped.plot()\n",
    "\n",
    "# Liniendiagramm der kumulierten gemeldeten Fälle pro Tag über den gesamten Zeitraum\n",
    "plt.figure()\n",
    "rki_data_grouped['AnzahlFallKumuliert'] = rki_data_grouped['AnzahlFall'].cumsum()\n",
    "rki_data_grouped['AnzahlFallKumuliert'].plot(kind='line')\n",
    "\n",
    "# Säulendiagramm der gemeldeten Fälle in Düsseldorf über die letzten 3 Wochen\n",
    "plt.figure()\n",
    "start = datetime.datetime.today() - datetime.timedelta(weeks=3)\n",
    "rki_data.loc[(rki_data['Meldedatum'] > start) & (rki_data['IdLandkreis'] == 5111), ['Meldedatum', 'AnzahlFall']].groupby(by='Meldedatum').sum().plot(kind='bar')\n",
    "\"\"\"\n",
    "\n",
    "value[toggle['solution'].model_id] = Code(solution)\n",
    "\n",
    "### Register observer & display\n",
    "\n",
    "out = widgets.Output(layout=widgets.Layout(border = '1px solid black'))\n",
    "for t in toggle.values(): \n",
    "    output[t.model_id] = out\n",
    "    t.observe(toggle_button_observer, \"value\")\n",
    "\n",
    "display(widgets.HBox([toggle['tipp'], toggle['step'], toggle['solution']]))\n",
    "display(out)"
   ]
  },
  {
   "cell_type": "code",
   "execution_count": null,
   "metadata": {},
   "outputs": [],
   "source": []
  },
  {
   "cell_type": "markdown",
   "metadata": {},
   "source": [
    "## 6 Freie Analyse\n",
    "\n",
    "### Aufgabe\n",
    "\n",
    "Erzeugen Sie eine Auswertung / Visualisierung frei nach Ihrem Interesse!"
   ]
  },
  {
   "cell_type": "code",
   "execution_count": null,
   "metadata": {},
   "outputs": [],
   "source": []
  }
 ],
 "metadata": {
  "hide_code_all_hidden": false,
  "kernelspec": {
   "display_name": "Python 3",
   "language": "python",
   "name": "python3"
  },
  "language_info": {
   "codemirror_mode": {
    "name": "ipython",
    "version": 3
   },
   "file_extension": ".py",
   "mimetype": "text/x-python",
   "name": "python",
   "nbconvert_exporter": "python",
   "pygments_lexer": "ipython3",
   "version": "3.8.3"
  },
  "toc": {
   "base_numbering": 1,
   "nav_menu": {},
   "number_sections": true,
   "sideBar": true,
   "skip_h1_title": true,
   "title_cell": "Table of Contents",
   "title_sidebar": "Contents",
   "toc_cell": false,
   "toc_position": {},
   "toc_section_display": true,
   "toc_window_display": true
  }
 },
 "nbformat": 4,
 "nbformat_minor": 4
}
